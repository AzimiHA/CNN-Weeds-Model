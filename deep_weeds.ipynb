{
 "cells": [
  {
   "cell_type": "code",
   "execution_count": null,
   "metadata": {
    "collapsed": true
   },
   "outputs": [],
   "source": [
    "import numpy as np\n",
    "from torch.utils.data import Dataset, DataLoader\n",
    "import torchvision\n",
    "from torchvision import transforms, utils\n",
    "from PIL import Image\n",
    "import torch\n",
    "import tensorflow as tf\n",
    "import tensorflow_datasets as tfds\n",
    "from efficientnet_pytorch import EfficientNet\n",
    "import torch.nn as nn\n",
    "import torch.nn.functional as F"
   ]
  },
  {
   "cell_type": "code",
   "execution_count": null,
   "outputs": [],
   "source": [
    "#Downloal dataset from tensorflow website\n",
    "\n",
    "# this block of code is retrived from https://stackoverflow.com/questions/44429199/how-to-load-a-list-of-numpy-arrays-to-pytorch-dataset-loader\n",
    "\n",
    "class MyDataset(Dataset):\n",
    "    def __init__(self, data, targets, transform=None):\n",
    "        self.data = data\n",
    "        self.targets = torch.LongTensor(targets)\n",
    "        self.transform = transform\n",
    "\n",
    "    def __getitem__(self, index):\n",
    "        x = self.data[index]\n",
    "        y = self.targets[index]\n",
    "\n",
    "        if self.transform:\n",
    "            x = Image.fromarray(self.data[index].astype(np.uint8).transpose(1,2,0))\n",
    "            x = self.transform(x)\n",
    "\n",
    "        return x, y\n",
    "\n",
    "    def __len__(self):\n",
    "        return len(self.data)\n",
    "\n",
    "# download dataset as numpy\n",
    "dp_tf = tfds.load(name=\"deep_weeds\", split = [\"train\"])\n",
    "dp_numpy = tfds.as_numpy(dp_tf)"
   ],
   "metadata": {
    "collapsed": false,
    "pycharm": {
     "name": "#%%\n"
    }
   }
  },
  {
   "cell_type": "code",
   "execution_count": null,
   "outputs": [],
   "source": [
    "# convert data to numpy array\n",
    "train_images = []\n",
    "train_labels = []\n",
    "\n",
    "for image in dp_numpy[0]:\n",
    "    train_images.append(image['image'])\n",
    "    train_labels.append(image['label'])"
   ],
   "metadata": {
    "collapsed": false,
    "pycharm": {
     "name": "#%%\n"
    }
   }
  },
  {
   "cell_type": "code",
   "execution_count": null,
   "outputs": [],
   "source": [
    "# convert numpy array to pytorch dataset\n",
    "train_images = np.array(train_images)\n",
    "train_images = np.transpose(train_images, (0, 3, 1, 2))\n",
    "d_length = len(train_images)\n",
    "train_labels = np.array(train_labels)"
   ],
   "metadata": {
    "collapsed": false,
    "pycharm": {
     "name": "#%%\n"
    }
   }
  },
  {
   "cell_type": "code",
   "execution_count": null,
   "outputs": [],
   "source": [
    "#just some usual process of preparing dataset with pytorch\n",
    "transform = transforms.Compose([transforms.RandomCrop(256), transforms.RandomHorizontalFlip(),\n",
    "                                transforms.ToTensor()])\n",
    "test_transform = transforms.Compose(\n",
    "[transforms.ToTensor()])\n",
    "\n",
    "dset = MyDataset(train_images, train_labels, transform=transform)\n",
    "train_set, test_set = torch.utils.data.random_split(dset, lengths=[int(d_length * 0.95), int(d_length - int(d_length * 0.95))],\n",
    "                                                    generator=torch.Generator().manual_seed(42))\n",
    "\n",
    "trainloader = torch.utils.data.DataLoader(train_set, batch_size=32, shuffle=True)\n",
    "testloader = torch.utils.data.DataLoader(test_set, batch_size=32, shuffle=False)"
   ],
   "metadata": {
    "collapsed": false,
    "pycharm": {
     "name": "#%%\n"
    }
   }
  },
  {
   "cell_type": "code",
   "execution_count": null,
   "outputs": [],
   "source": [
    "#decide whether to use pretrained efficientnet\n",
    "pre_trained = False\n",
    "if pre_trained:\n",
    "    net = EfficientNet.from_pretrained('efficientnet-b2') #here we should use b2 but not not b0\n",
    "else:\n",
    "    net = EfficientNet.from_name(\"efficientnet-b2\")\n",
    "\n",
    "#get the connected gpu in use\n",
    "net = net.cuda()\n",
    "net = torch.nn.DataParallel(net, device_ids=range(torch.cuda.device_count()))"
   ],
   "metadata": {
    "collapsed": false,
    "pycharm": {
     "name": "#%%\n"
    }
   }
  },
  {
   "cell_type": "code",
   "execution_count": null,
   "outputs": [],
   "source": [
    "#train\n",
    "\n",
    "num_epochs = 500\n",
    "criterion = nn.CrossEntropyLoss()\n",
    "optimizer = torch.optim.SGD(net.parameters(), lr=0.1, momentum=0.9, weight_decay=5e-4)\n",
    "\n",
    "loss_list = []\n",
    "test_acc_list = []\n",
    "lrSchduler = torch.optim.lr_scheduler.StepLR(optimizer, step_size=5, gamma=0.9)\n",
    "\n",
    "for epoch in range(num_epochs):\n",
    "    running_loss = 0.0\n",
    "    correct = 0\n",
    "    total = 0\n",
    "    test_loss = 0.0\n",
    "    net.train()\n",
    "    for i, data in enumerate(trainloader, 0):\n",
    "        # get the inputs\n",
    "        inputs, labels = data\n",
    "\n",
    "        inputs = inputs.cuda()\n",
    "        labels = labels.cuda()\n",
    "\n",
    "        # zero the parameter gradients\n",
    "        optimizer.zero_grad()\n",
    "\n",
    "        # forward + backward + optimize\n",
    "        outputs = net(inputs)\n",
    "        loss = criterion(outputs, labels)\n",
    "        loss.backward()\n",
    "\n",
    "        optimizer.step()\n",
    "\n",
    "        # print statistics\n",
    "        running_loss += loss.data.item()\n",
    "\n",
    "        _, predicted = torch.max(outputs.data, 1)\n",
    "        total += labels.size(0)\n",
    "        correct += (predicted == labels).sum().item()\n",
    "\n",
    "    # Normalizing the loss by the total number of train batches\n",
    "    running_loss /= len(trainloader)\n",
    "\n",
    "    # Calculate training accuracy of the existing model\n",
    "\n",
    "    train_accuracy = correct / total\n",
    "    loss_list.append(running_loss)\n",
    "\n",
    "    test_correct = 0\n",
    "    test_total = 0\n",
    "\n",
    "    net.eval()\n",
    "    with torch.no_grad():\n",
    "        for data in testloader:\n",
    "            test_images, test_labels = data\n",
    "            test_inputs = test_images.cuda()\n",
    "            test_labels = test_labels.cuda()\n",
    "            test_outputs = net(test_inputs)\n",
    "            test_loss = criterion(test_outputs, test_labels)\n",
    "            _, predicted = torch.max(test_outputs.data, 1)\n",
    "            test_total += test_labels.size(0)\n",
    "            test_correct += (predicted == test_labels).sum().item()\n",
    "    test_acc = test_correct / test_total\n",
    "    test_acc_list.append(test_acc)\n",
    "\n",
    "    print(\"Iteration: {0} | Loss: {1} | Training accuracy: {2} | test loss: {3} | test_acc: {4}\".format(epoch+1,\n",
    "                                                                                              running_loss,\n",
    "                                                                                              train_accuracy, test_loss,\n",
    "                                                                                                   test_acc\n",
    "                                                                                            ))\n",
    "    lrSchduler.step()\n",
    "    print('==> Finished Training ...')"
   ],
   "metadata": {
    "collapsed": false,
    "pycharm": {
     "name": "#%%\n"
    }
   }
  },
  {
   "cell_type": "code",
   "execution_count": null,
   "outputs": [],
   "source": [
    "best_test_acc = max(test_acc_list)\n",
    "index = test_acc_list.index(max(test_acc_list)) + 1\n",
    "print(\"Best test acc during training: \", best_test_acc, \" epoch: \", index)\n",
    "\n",
    "print(\"done\")"
   ],
   "metadata": {
    "collapsed": false,
    "pycharm": {
     "name": "#%%\n"
    }
   }
  }
 ],
 "metadata": {
  "kernelspec": {
   "display_name": "Python 3",
   "language": "python",
   "name": "python3"
  },
  "language_info": {
   "codemirror_mode": {
    "name": "ipython",
    "version": 2
   },
   "file_extension": ".py",
   "mimetype": "text/x-python",
   "name": "python",
   "nbconvert_exporter": "python",
   "pygments_lexer": "ipython2",
   "version": "2.7.6"
  }
 },
 "nbformat": 4,
 "nbformat_minor": 0
}