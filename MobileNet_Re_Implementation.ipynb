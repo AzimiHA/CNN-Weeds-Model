{
  "nbformat": 4,
  "nbformat_minor": 0,
  "metadata": {
    "colab": {
      "name": "MobileNet_Re-Implementation.ipynb",
      "provenance": []
    },
    "kernelspec": {
      "name": "python3",
      "display_name": "Python 3"
    },
    "language_info": {
      "name": "python"
    }
  },
  "cells": [
    {
      "cell_type": "code",
      "metadata": {
        "id": "oD1-y6i3ohtR"
      },
      "source": [
        "# This colab notebook is loosely based off the following code/article:\n",
        "# Yixing, F. (2020) Image classification via fine-tuning with EfficientNet. https://keras.io/examples/vision/image_classification_efficientnet_fine_tuning/\n",
        "# Keshav, V., (2019) ImageNet from tensorflow_datasets. https://gist.github.com/vishal-keshav/0eac98fd44e2239ff5721196a9011829"
      ],
      "execution_count": null,
      "outputs": []
    },
    {
      "cell_type": "code",
      "metadata": {
        "id": "mYAQEEMSvKzv"
      },
      "source": [
        "from google.colab import drive\n",
        "\n",
        "drive.mount('/content/gdrive')"
      ],
      "execution_count": null,
      "outputs": []
    },
    {
      "cell_type": "code",
      "metadata": {
        "id": "Bg08iJzIvObQ"
      },
      "source": [
        "import numpy as np\n",
        "import tensorflow_datasets as tfds\n",
        "import keras"
      ],
      "execution_count": null,
      "outputs": []
    },
    {
      "cell_type": "code",
      "metadata": {
        "id": "Xo-mclrAvRFA"
      },
      "source": [
        "#Note that to load the dataset keras requires it to be downloaded manually and then uploaded to uploaded to be used here.\n",
        "#Currently we have uploaded it to our drive. \n",
        "#We are using the tensor flow dataset from this link: https://www.tensorflow.org/datasets/catalog/imagenet2012_subset\n",
        "#We downloaded the ILSVRC2012 dataset from here: http://www.image-net.org/download-images\n",
        "dataset_name = \"imagenet2012_subset\"\n",
        "imagenet_dataset_builder = tfds.builder(dataset_name)\n",
        "\n",
        "manual_dataset_dir = \"/content/gdrive/MyDrive/ImageNet Dataset/\"\n",
        "imagenet_download_config = tfds.download.DownloadConfig(\n",
        "                                                manual_dir = manual_dataset_dir)\n",
        "imagenet_dataset_builder.download_and_prepare(\n",
        "                                    download_dir = manual_dataset_dir)\n",
        "(ds_train, ds_test), ds_info = tfds.load(\n",
        "    dataset_name, split=[\"train\", \"validation\"], with_info=True, as_supervised=True\n",
        ")\n",
        "NUM_CLASSES = ds_info.features[\"label\"].num_classes\n",
        "print(NUM_CLASSES)\n"
      ],
      "execution_count": null,
      "outputs": []
    },
    {
      "cell_type": "code",
      "metadata": {
        "colab": {
          "base_uri": "https://localhost:8080/"
        },
        "id": "3gau2DJtvnyh",
        "outputId": "4f0eec08-4d5f-46e9-be28-3467eaff01ba"
      },
      "source": [
        "import tensorflow as tf\n",
        "batch_size=500\n",
        "size=(224,224)\n",
        "\n",
        "ds_train = ds_train.map(lambda image, label: (tf.image.resize(image, size), label))\n",
        "ds_test = ds_test.map(lambda image, label: (tf.image.resize(image, size), label))\n",
        "\n",
        "def input_preprocess(image, label):\n",
        "    label = tf.one_hot(label, NUM_CLASSES)\n",
        "    return image, label\n",
        "\n",
        "ds_test = ds_test.map(input_preprocess)\n",
        "ds_test = ds_test.batch(batch_size=batch_size, drop_remainder=True)\n",
        "\n",
        "model = keras.applications.MobileNetV2()\n",
        "model.compile(optimizer = 'RMSProp', loss=\"categorical_crossentropy\", metrics=[\"accuracy\"])\n",
        "\n",
        "averages = []\n",
        "for img,lbl in ds_test:\n",
        "    temp_img = keras.applications.mobilenet_v2.preprocess_input(img)\n",
        "    temp_l,temp_avg = model.evaluate(temp_img, lbl)\n",
        "    averages.append(temp_avg)"
      ],
      "execution_count": null,
      "outputs": [
        {
          "output_type": "stream",
          "text": [
            "16/16 [==============================] - 27s 1s/step - loss: 1.1656 - accuracy: 0.7378\n",
            "16/16 [==============================] - 19s 1s/step - loss: 1.3338 - accuracy: 0.7000\n",
            "16/16 [==============================] - 19s 1s/step - loss: 1.1446 - accuracy: 0.7360\n",
            "16/16 [==============================] - 19s 1s/step - loss: 1.3158 - accuracy: 0.7060\n",
            "16/16 [==============================] - 19s 1s/step - loss: 1.2712 - accuracy: 0.6960\n",
            "16/16 [==============================] - 19s 1s/step - loss: 1.3549 - accuracy: 0.7120\n",
            "16/16 [==============================] - 19s 1s/step - loss: 1.2969 - accuracy: 0.7140\n",
            "16/16 [==============================] - 20s 1s/step - loss: 1.0992 - accuracy: 0.7540\n",
            "16/16 [==============================] - 19s 1s/step - loss: 1.3131 - accuracy: 0.7020\n",
            "16/16 [==============================] - 19s 1s/step - loss: 1.2435 - accuracy: 0.7320\n",
            "16/16 [==============================] - 19s 1s/step - loss: 1.1890 - accuracy: 0.7460\n",
            "16/16 [==============================] - 19s 1s/step - loss: 1.2937 - accuracy: 0.7060\n",
            "16/16 [==============================] - 19s 1s/step - loss: 1.2912 - accuracy: 0.7000\n",
            "16/16 [==============================] - 19s 1s/step - loss: 1.2559 - accuracy: 0.6940\n",
            "16/16 [==============================] - 19s 1s/step - loss: 1.1385 - accuracy: 0.7540\n",
            "16/16 [==============================] - 19s 1s/step - loss: 1.2370 - accuracy: 0.6980\n",
            "16/16 [==============================] - 19s 1s/step - loss: 1.0480 - accuracy: 0.7540\n",
            "16/16 [==============================] - 19s 1s/step - loss: 1.2370 - accuracy: 0.7180\n",
            "16/16 [==============================] - 20s 1s/step - loss: 1.2269 - accuracy: 0.7460\n",
            "16/16 [==============================] - 20s 1s/step - loss: 1.2371 - accuracy: 0.7100\n",
            "16/16 [==============================] - 19s 1s/step - loss: 1.3085 - accuracy: 0.6880\n",
            "16/16 [==============================] - 19s 1s/step - loss: 1.2391 - accuracy: 0.7400\n",
            "16/16 [==============================] - 20s 1s/step - loss: 1.3933 - accuracy: 0.6720\n",
            "16/16 [==============================] - 19s 1s/step - loss: 1.2756 - accuracy: 0.6860\n",
            "16/16 [==============================] - 19s 1s/step - loss: 1.3387 - accuracy: 0.7100\n",
            "16/16 [==============================] - 19s 1s/step - loss: 1.3068 - accuracy: 0.7060\n",
            "16/16 [==============================] - 19s 1s/step - loss: 1.3360 - accuracy: 0.6980\n",
            "16/16 [==============================] - 19s 1s/step - loss: 1.4809 - accuracy: 0.6880\n",
            "16/16 [==============================] - 19s 1s/step - loss: 1.1858 - accuracy: 0.7240\n",
            "16/16 [==============================] - 19s 1s/step - loss: 1.4258 - accuracy: 0.6740\n",
            "16/16 [==============================] - 24s 1s/step - loss: 1.3980 - accuracy: 0.6900\n",
            "16/16 [==============================] - 23s 1s/step - loss: 1.1958 - accuracy: 0.7360\n",
            "16/16 [==============================] - 19s 1s/step - loss: 1.2469 - accuracy: 0.7100\n",
            "16/16 [==============================] - 19s 1s/step - loss: 1.3428 - accuracy: 0.6880\n",
            "16/16 [==============================] - 19s 1s/step - loss: 1.3248 - accuracy: 0.6880\n",
            "16/16 [==============================] - 19s 1s/step - loss: 1.2490 - accuracy: 0.7080\n",
            "16/16 [==============================] - 19s 1s/step - loss: 1.1919 - accuracy: 0.7200\n",
            "16/16 [==============================] - 19s 1s/step - loss: 1.3323 - accuracy: 0.6900\n",
            "16/16 [==============================] - 19s 1s/step - loss: 1.3206 - accuracy: 0.7060\n",
            "16/16 [==============================] - 19s 1s/step - loss: 1.3029 - accuracy: 0.7180\n",
            "16/16 [==============================] - 20s 1s/step - loss: 1.1978 - accuracy: 0.7420\n",
            "16/16 [==============================] - 19s 1s/step - loss: 1.2520 - accuracy: 0.7080\n",
            "16/16 [==============================] - 19s 1s/step - loss: 1.1978 - accuracy: 0.7180\n",
            "16/16 [==============================] - 19s 1s/step - loss: 1.2231 - accuracy: 0.6860\n",
            "16/16 [==============================] - 19s 1s/step - loss: 1.2742 - accuracy: 0.7160\n",
            "16/16 [==============================] - 19s 1s/step - loss: 1.3535 - accuracy: 0.7000\n",
            "16/16 [==============================] - 19s 1s/step - loss: 1.1708 - accuracy: 0.7180\n",
            "16/16 [==============================] - 19s 1s/step - loss: 1.3221 - accuracy: 0.7040\n",
            "16/16 [==============================] - 19s 1s/step - loss: 1.3348 - accuracy: 0.6820\n",
            "16/16 [==============================] - 19s 1s/step - loss: 1.3543 - accuracy: 0.6960\n",
            "16/16 [==============================] - 19s 1s/step - loss: 1.2747 - accuracy: 0.7160\n",
            "16/16 [==============================] - 19s 1s/step - loss: 1.2521 - accuracy: 0.6960\n",
            "16/16 [==============================] - 19s 1s/step - loss: 1.3385 - accuracy: 0.6960\n",
            "16/16 [==============================] - 20s 1s/step - loss: 1.3037 - accuracy: 0.6980\n",
            "16/16 [==============================] - 19s 1s/step - loss: 1.2053 - accuracy: 0.7240\n",
            "16/16 [==============================] - 19s 1s/step - loss: 1.3270 - accuracy: 0.7060\n",
            "16/16 [==============================] - 19s 1s/step - loss: 1.3797 - accuracy: 0.6840\n",
            "16/16 [==============================] - 19s 1s/step - loss: 1.3949 - accuracy: 0.6720\n",
            "16/16 [==============================] - 19s 1s/step - loss: 1.3165 - accuracy: 0.7140\n",
            "16/16 [==============================] - 19s 1s/step - loss: 1.2171 - accuracy: 0.7260\n",
            "16/16 [==============================] - 19s 1s/step - loss: 1.2231 - accuracy: 0.7140\n",
            "16/16 [==============================] - 23s 1s/step - loss: 1.3500 - accuracy: 0.7100\n",
            "16/16 [==============================] - 23s 1s/step - loss: 1.2280 - accuracy: 0.7220\n",
            "16/16 [==============================] - 19s 1s/step - loss: 1.2826 - accuracy: 0.7080\n",
            "16/16 [==============================] - 19s 1s/step - loss: 1.3039 - accuracy: 0.7060\n",
            "16/16 [==============================] - 19s 1s/step - loss: 1.3875 - accuracy: 0.6740\n",
            "16/16 [==============================] - 19s 1s/step - loss: 1.3111 - accuracy: 0.7020\n",
            "16/16 [==============================] - 19s 1s/step - loss: 1.3585 - accuracy: 0.6680\n",
            "16/16 [==============================] - 19s 1s/step - loss: 1.2117 - accuracy: 0.7200\n",
            "16/16 [==============================] - 19s 1s/step - loss: 1.3314 - accuracy: 0.6800\n",
            "16/16 [==============================] - 19s 1s/step - loss: 1.2565 - accuracy: 0.6940\n",
            "16/16 [==============================] - 19s 1s/step - loss: 1.3058 - accuracy: 0.7220\n",
            "16/16 [==============================] - 19s 1s/step - loss: 1.1941 - accuracy: 0.7320\n",
            "16/16 [==============================] - 19s 1s/step - loss: 1.2901 - accuracy: 0.7260\n",
            "16/16 [==============================] - 19s 1s/step - loss: 1.2936 - accuracy: 0.7020\n",
            "16/16 [==============================] - 19s 1s/step - loss: 1.3759 - accuracy: 0.6880\n",
            "16/16 [==============================] - 19s 1s/step - loss: 1.3451 - accuracy: 0.6900\n",
            "16/16 [==============================] - 19s 1s/step - loss: 1.2346 - accuracy: 0.7020\n",
            "16/16 [==============================] - 19s 1s/step - loss: 1.3413 - accuracy: 0.6880\n",
            "16/16 [==============================] - 22s 1s/step - loss: 1.2890 - accuracy: 0.7100\n",
            "16/16 [==============================] - 19s 1s/step - loss: 1.3543 - accuracy: 0.6960\n",
            "16/16 [==============================] - 19s 1s/step - loss: 1.1846 - accuracy: 0.7320\n",
            "16/16 [==============================] - 19s 1s/step - loss: 1.2456 - accuracy: 0.7060\n",
            "16/16 [==============================] - 19s 1s/step - loss: 1.3424 - accuracy: 0.7000\n",
            "16/16 [==============================] - 19s 1s/step - loss: 1.3064 - accuracy: 0.6880\n",
            "16/16 [==============================] - 19s 1s/step - loss: 1.2619 - accuracy: 0.7260\n",
            "16/16 [==============================] - 19s 1s/step - loss: 1.4125 - accuracy: 0.6720\n",
            "16/16 [==============================] - 19s 1s/step - loss: 1.3114 - accuracy: 0.6820\n",
            "16/16 [==============================] - 19s 1s/step - loss: 1.3240 - accuracy: 0.6980\n",
            "16/16 [==============================] - 19s 1s/step - loss: 1.2185 - accuracy: 0.7120\n",
            "16/16 [==============================] - 19s 1s/step - loss: 1.3171 - accuracy: 0.7020\n",
            "16/16 [==============================] - 19s 1s/step - loss: 1.3319 - accuracy: 0.7080\n",
            "16/16 [==============================] - 22s 1s/step - loss: 1.2594 - accuracy: 0.7120\n",
            "16/16 [==============================] - 25s 1s/step - loss: 1.2816 - accuracy: 0.7160\n",
            "16/16 [==============================] - 19s 1s/step - loss: 1.2423 - accuracy: 0.7120\n",
            "16/16 [==============================] - 19s 1s/step - loss: 1.2685 - accuracy: 0.6820\n",
            "16/16 [==============================] - 19s 1s/step - loss: 1.3115 - accuracy: 0.6960\n",
            "16/16 [==============================] - 19s 1s/step - loss: 1.3600 - accuracy: 0.7000\n",
            "16/16 [==============================] - 18s 1s/step - loss: 1.3211 - accuracy: 0.6960\n",
            "16/16 [==============================] - 18s 1s/step - loss: 1.2614 - accuracy: 0.6940\n"
          ],
          "name": "stdout"
        }
      ]
    },
    {
      "cell_type": "code",
      "metadata": {
        "colab": {
          "base_uri": "https://localhost:8080/"
        },
        "id": "nv-AlvZ363ua",
        "outputId": "eff618ee-075e-4c2a-f999-19cf871e1f56"
      },
      "source": [
        "sum = 0\n",
        "counter = 0\n",
        "for i in averages:\n",
        "  sum+=i\n",
        "  counter+=1\n",
        "avg = sum/counter\n",
        "print(\"Average accuracy of MobileNetV2 on the ImageNet 2012 validation set:\", avg)"
      ],
      "execution_count": null,
      "outputs": [
        {
          "output_type": "stream",
          "text": [
            "Average accuracy of MobileNetV2 on the ImageNet 2012 validation set: 0.7063199985027313\n"
          ],
          "name": "stdout"
        }
      ]
    }
  ]
}